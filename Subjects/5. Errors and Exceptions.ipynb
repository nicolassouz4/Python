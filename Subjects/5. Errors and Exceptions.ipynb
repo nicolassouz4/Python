{
 "cells": [
  {
   "cell_type": "markdown",
   "metadata": {},
   "source": [
    "# <b>Errors and Exceptions</b>\n",
    "\n",
    "### <b>Summary:</b>\n",
    "\n",
    "1. try\n",
    "\n",
    "    * A try block is used to wrap the code that might raise an exception. If an exception occurs within this block, the subsequent except blocks are checked to see if they can handle the exception.\n",
    "\n",
    "2. except \n",
    "\n",
    "    * An except block is used to handle the exception that occurs in the try block. You can have multiple except blocks to handle different types of exceptions differently.\n",
    "\n",
    "3. else \n",
    "\n",
    "    * An else block is optional and runs only if the try block did not raise an exception. It's useful for code that should run only if no exceptions were raised.\n",
    "\n",
    "4. finally \n",
    "\n",
    "    * A finally block is also optional and runs whether an exception occurred or not. It is typically used for cleanup actions, like closing files or releasing resources."
   ]
  },
  {
   "cell_type": "markdown",
   "metadata": {},
   "source": [
    "#### <b> Problem 1</b>"
   ]
  },
  {
   "cell_type": "markdown",
   "metadata": {},
   "source": [
    "Handle the exception thrown by the code below by using <code>try</code> and <code>except</code> blocks."
   ]
  },
  {
   "cell_type": "code",
   "execution_count": 1,
   "metadata": {},
   "outputs": [
    {
     "name": "stdout",
     "output_type": "stream",
     "text": [
      "Strings can't be squared\n",
      "Strings can't be squared\n",
      "100\n"
     ]
    }
   ],
   "source": [
    "for i in ['a','b', 10]:\n",
    "    try:\n",
    "        print(i**2)\n",
    "    except:\n",
    "        print(\"Strings can't be squared\")"
   ]
  },
  {
   "cell_type": "markdown",
   "metadata": {},
   "source": [
    "#### <b> Problem 2</b>"
   ]
  },
  {
   "cell_type": "markdown",
   "metadata": {},
   "source": [
    "Handle the exception thrown by the code below by using <code>try</code> and <code>except</code> blocks. Then use a <code>finally</code> block to print 'All Done.'"
   ]
  },
  {
   "cell_type": "code",
   "execution_count": 2,
   "metadata": {},
   "outputs": [
    {
     "name": "stdout",
     "output_type": "stream",
     "text": [
      "Division by zero isn't possible\n",
      "All Done\n"
     ]
    }
   ],
   "source": [
    "x = 5\n",
    "y = 0\n",
    "\n",
    "try:\n",
    "    z = x/y\n",
    "except ZeroDivisionError:\n",
    "    print(\"Division by zero isn't possible\")\n",
    "finally:\n",
    "    print('All Done')"
   ]
  },
  {
   "cell_type": "markdown",
   "metadata": {},
   "source": [
    "#### <b> Problem 3</b>"
   ]
  },
  {
   "cell_type": "markdown",
   "metadata": {},
   "source": [
    "Write a function that asks for an integer and prints the square of it. Use a <code>while</code> loop with a <code>try</code>, <code>except</code>, <code>else</code> block to account for incorrect inputs."
   ]
  },
  {
   "cell_type": "code",
   "execution_count": 3,
   "metadata": {
    "collapsed": true
   },
   "outputs": [],
   "source": [
    "def ask():\n",
    "\n",
    "    while True:\n",
    "        try:\n",
    "            value = int(input('Input an integer: '))\n",
    "        except:\n",
    "            print(\"An error occurred! Please try again!\")\n",
    "            continue\n",
    "        else:\n",
    "            print(f\"Thank you, your number squared is: {value**2}\")\n",
    "            break"
   ]
  },
  {
   "cell_type": "code",
   "execution_count": 4,
   "metadata": {},
   "outputs": [
    {
     "name": "stdout",
     "output_type": "stream",
     "text": [
      "An error occurred! Please try again!\n",
      "An error occurred! Please try again!\n",
      "An error occurred! Please try again!\n",
      "An error occurred! Please try again!\n",
      "An error occurred! Please try again!\n",
      "An error occurred! Please try again!\n",
      "An error occurred! Please try again!\n",
      "An error occurred! Please try again!\n",
      "An error occurred! Please try again!\n",
      "An error occurred! Please try again!\n",
      "An error occurred! Please try again!\n",
      "An error occurred! Please try again!\n",
      "An error occurred! Please try again!\n",
      "An error occurred! Please try again!\n",
      "An error occurred! Please try again!\n",
      "An error occurred! Please try again!\n",
      "An error occurred! Please try again!\n",
      "An error occurred! Please try again!\n",
      "An error occurred! Please try again!\n",
      "Thank you, your number squared is: 100\n"
     ]
    }
   ],
   "source": [
    "ask()"
   ]
  },
  {
   "cell_type": "code",
   "execution_count": 5,
   "metadata": {},
   "outputs": [
    {
     "name": "stdout",
     "output_type": "stream",
     "text": [
      "Thank you, your number squared is: 100\n"
     ]
    }
   ],
   "source": [
    "ask()"
   ]
  },
  {
   "cell_type": "markdown",
   "metadata": {},
   "source": [
    "# Thanks!\n",
    "Nícolas de Souza"
   ]
  }
 ],
 "metadata": {
  "kernelspec": {
   "display_name": "Python 3",
   "language": "python",
   "name": "python3"
  },
  "language_info": {
   "codemirror_mode": {
    "name": "ipython",
    "version": 3
   },
   "file_extension": ".py",
   "mimetype": "text/x-python",
   "name": "python",
   "nbconvert_exporter": "python",
   "pygments_lexer": "ipython3",
   "version": "3.12.2"
  }
 },
 "nbformat": 4,
 "nbformat_minor": 1
}
